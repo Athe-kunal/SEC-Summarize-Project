{
 "cells": [
  {
   "cell_type": "code",
   "execution_count": 1,
   "metadata": {},
   "outputs": [],
   "source": [
    "year = \"2021\"\n",
    "filing_type = \"10-K\"\n",
    "\n",
    "start = year+\"-01-01\"\n",
    "end = year+\"-12-31\""
   ]
  },
  {
   "cell_type": "code",
   "execution_count": 1,
   "metadata": {},
   "outputs": [
    {
     "name": "stdout",
     "output_type": "stream",
     "text": [
      "Started for TSLA\n"
     ]
    }
   ],
   "source": [
    "from data_extraction import get_data\n",
    "\n",
    "full_data = get_data(\n",
    "    \"TSLA\",\n",
    "    \"2021\",\n",
    "    filing_type=\"10-Q\",\n",
    "    include_amends=True,\n",
    "    num_workers=8\n",
    ")"
   ]
  },
  {
   "cell_type": "code",
   "execution_count": 16,
   "metadata": {},
   "outputs": [],
   "source": [
    "# len(full_data)\n",
    "# full_data"
   ]
  },
  {
   "cell_type": "code",
   "execution_count": null,
   "metadata": {},
   "outputs": [],
   "source": [
    "\"\\xa0\",\"\\n\",\"\\t\","
   ]
  },
  {
   "cell_type": "code",
   "execution_count": 3,
   "metadata": {},
   "outputs": [
    {
     "name": "stdout",
     "output_type": "stream",
     "text": [
      "202109\n",
      "10-Q\n",
      "202106\n",
      "10-Q\n",
      "202103\n",
      "10-Q\n"
     ]
    }
   ],
   "source": [
    "for i in full_data['TSLA']:\n",
    "    print(i['year'])\n",
    "    print(i['filing_type'])"
   ]
  },
  {
   "cell_type": "code",
   "execution_count": 22,
   "metadata": {},
   "outputs": [],
   "source": [
    "documents = []\n",
    "metadata = []\n",
    "\n",
    "for tic_data in full_data['TSLA']:\n",
    "    # print(tic_data)\n",
    "    curr_year = tic_data[\"year\"]\n",
    "    ticker = tic_data[\"ticker\"]\n",
    "    filing_type = tic_data[\"filing_type\"]\n",
    "\n",
    "    for section, section_text in tic_data[\"all_texts\"].items():\n",
    "        documents.append(section_text)\n",
    "        metadata.append(\n",
    "            {\n",
    "                \"year\": curr_year,\n",
    "                \"ticker\": ticker,\n",
    "                \"section\": section,\n",
    "                \"filing_type\": filing_type,\n",
    "            }\n",
    "        )"
   ]
  },
  {
   "cell_type": "code",
   "execution_count": 1,
   "metadata": {},
   "outputs": [
    {
     "name": "stdout",
     "output_type": "stream",
     "text": [
      "For quarter ALL\n",
      "Started for TSLA\n",
      "202209\n",
      "202206\n",
      "202203\n",
      "----------------------------------------------------------------------------------------------------\n",
      "For quarter Q3\n",
      "Started for TSLA\n",
      "202209\n",
      "----------------------------------------------------------------------------------------------------\n",
      "For quarter Q2\n",
      "Started for TSLA\n",
      "202209\n",
      "----------------------------------------------------------------------------------------------------\n",
      "For quarter Q1\n",
      "Started for TSLA\n",
      "202203\n",
      "----------------------------------------------------------------------------------------------------\n"
     ]
    }
   ],
   "source": [
    "from sec_filings import SECExtractor\n",
    "from data_extraction import multiprocess_run\n",
    "def get_data_(\n",
    "    ticker: str,\n",
    "    year: str,\n",
    "    filing_type: str,\n",
    "    include_amends: bool = True,\n",
    "    num_workers: int = 8,\n",
    "    quarters:str = \"ALL\"\n",
    "):\n",
    "    assert filing_type in [\n",
    "        \"10-K\",\n",
    "        \"10-Q\",\n",
    "    ], \"The supported document types are 10-K and 10-Q\"\n",
    "\n",
    "    assert quarters in [\"ALL\",\"Q3\",\"Q2\",\"Q1\"], \"Please provide a valid quarter name\"\n",
    "\n",
    "    if filing_type == \"10-K\":\n",
    "        year = str(int(year) + 1)\n",
    "        start = year + \"-01-01\"\n",
    "        end = year + \"-12-31\"\n",
    "        amount = 1\n",
    "    elif filing_type == \"10-Q\":\n",
    "        if quarters == \"ALL\":\n",
    "            start = year + \"-01-01\"\n",
    "            end = str(int(year)+1) + \"-02-20\"\n",
    "            amount = 3\n",
    "        elif quarters == \"Q3\":\n",
    "            start = year + \"-07-01\"\n",
    "            end = str(int(year)+1) + \"-02-20\"\n",
    "            amount = 1\n",
    "        elif quarters == \"Q2\":\n",
    "            start = year+\"-04-01\"\n",
    "            end = year + \"-12-31\"\n",
    "            amount = 1\n",
    "        elif quarters == \"Q1\":\n",
    "            start = year+\"-01-01\"\n",
    "            end = year+\"-05-01\"\n",
    "            amount = 1\n",
    "\n",
    "    se = SECExtractor(\n",
    "        [ticker],\n",
    "        amount=amount,\n",
    "        filing_type=filing_type,\n",
    "        include_amends=include_amends,\n",
    "        start_date=start,\n",
    "        end_date=end,\n",
    "    )\n",
    "\n",
    "    full_data = multiprocess_run(se, ticker, num_workers)\n",
    "\n",
    "    return full_data\n",
    "\n",
    "\n",
    "for quarter in [\"ALL\",\"Q3\",\"Q2\",\"Q1\"]:\n",
    "    print(f\"For quarter {quarter}\")\n",
    "    full_data = get_data_(\n",
    "        ticker=\"TSLA\",\n",
    "        year=\"2022\",\n",
    "        filing_type=\"10-Q\",\n",
    "        include_amends=False,\n",
    "        quarters=quarter\n",
    "    )\n",
    "    # print(full_data)\n",
    "    for data in full_data['TSLA']:\n",
    "        print(data['year'])\n",
    "    print(\"-\"*100)"
   ]
  },
  {
   "cell_type": "code",
   "execution_count": 1,
   "metadata": {},
   "outputs": [
    {
     "name": "stdout",
     "output_type": "stream",
     "text": [
      "Started for AAPL\n"
     ]
    }
   ],
   "source": [
    "from data_loader import load_documents\n",
    "\n",
    "post_process_docs, post_process_metadata = load_documents(\n",
    "    \"AAPL\",\n",
    "    \"2021\",\n",
    "    \"10-Q\",\n",
    "    include_amends=False,\n",
    "    num_workers=8,\n",
    "    quarters=\"Q2\"\n",
    ")"
   ]
  },
  {
   "cell_type": "code",
   "execution_count": 2,
   "metadata": {},
   "outputs": [
    {
     "data": {
      "text/plain": [
       "[{'full_metadata': 'AAPL_202106_FINANCIAL_STATEMENTS_10-Q'},\n",
       " {'full_metadata': 'AAPL_202106_MANAGEMENT_DISCUSSION_10-Q'},\n",
       " {'full_metadata': 'AAPL_202106_MARKET_RISK_DISCLOSURES_10-Q'},\n",
       " {'full_metadata': 'AAPL_202106_CONTROLS_AND_PROCEDURES_10-Q'},\n",
       " {'full_metadata': 'AAPL_202106_LEGAL_PROCEEDINGS_10-Q'},\n",
       " {'full_metadata': 'AAPL_202106_RISK_FACTORS_10-Q'},\n",
       " {'full_metadata': 'AAPL_202106_USE_OF_PROCEEDS_10-Q'},\n",
       " {'full_metadata': 'AAPL_202106_DEFAULTS_10-Q'},\n",
       " {'full_metadata': 'AAPL_202106_MINE_SAFETY_10-Q'},\n",
       " {'full_metadata': 'AAPL_202106_OTHER_INFORMATION_10-Q'}]"
      ]
     },
     "execution_count": 2,
     "metadata": {},
     "output_type": "execute_result"
    }
   ],
   "source": [
    "post_process_metadata"
   ]
  },
  {
   "cell_type": "code",
   "execution_count": 2,
   "metadata": {},
   "outputs": [],
   "source": [
    "# from summarize import generate_summary\n",
    "\n",
    "# generate_summary(\n",
    "#     \"AAPL\",\"2021\",\"10-Q\",True,8,\"Q2\"\n",
    "# )"
   ]
  },
  {
   "cell_type": "code",
   "execution_count": null,
   "metadata": {},
   "outputs": [],
   "source": []
  }
 ],
 "metadata": {
  "kernelspec": {
   "display_name": "Python 3",
   "language": "python",
   "name": "python3"
  },
  "language_info": {
   "codemirror_mode": {
    "name": "ipython",
    "version": 3
   },
   "file_extension": ".py",
   "mimetype": "text/x-python",
   "name": "python",
   "nbconvert_exporter": "python",
   "pygments_lexer": "ipython3",
   "version": "3.10.12"
  },
  "orig_nbformat": 4
 },
 "nbformat": 4,
 "nbformat_minor": 2
}
